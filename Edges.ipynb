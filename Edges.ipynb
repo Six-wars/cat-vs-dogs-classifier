{
 "cells": [
  {
   "cell_type": "code",
   "execution_count": 1,
   "metadata": {},
   "outputs": [
    {
     "name": "stderr",
     "output_type": "stream",
     "text": [
      "Using TensorFlow backend.\n"
     ]
    }
   ],
   "source": [
    "import os\n",
    "import sys\n",
    "import cv2\n",
    "\n",
    "import random\n",
    "\n",
    "import numpy as np\n",
    "\n",
    "from tqdm import tqdm\n",
    "import pickle\n",
    "\n",
    "from keras.models import Sequential \n",
    "from keras.layers import Conv2D, MaxPooling2D \n",
    "from keras.layers import Activation, Dropout, Flatten, Dense\n",
    "\n",
    "from keras.callbacks import TensorBoard, EarlyStopping, ModelCheckpoint\n",
    "\n",
    "import matplotlib.pyplot as plt\n",
    "\n",
    "%matplotlib inline"
   ]
  },
  {
   "cell_type": "code",
   "execution_count": 2,
   "metadata": {},
   "outputs": [
    {
     "data": {
      "text/plain": [
       "['train', 'test', 'sample_submission.csv']"
      ]
     },
     "execution_count": 2,
     "metadata": {},
     "output_type": "execute_result"
    }
   ],
   "source": [
    "os.listdir('data')"
   ]
  },
  {
   "cell_type": "code",
   "execution_count": 3,
   "metadata": {},
   "outputs": [
    {
     "data": {
      "text/plain": [
       "25000"
      ]
     },
     "execution_count": 3,
     "metadata": {},
     "output_type": "execute_result"
    }
   ],
   "source": [
    "len(os.listdir('data/train'))"
   ]
  },
  {
   "cell_type": "code",
   "execution_count": 4,
   "metadata": {},
   "outputs": [
    {
     "name": "stdout",
     "output_type": "stream",
     "text": [
      "25000\n",
      "12500\n"
     ]
    }
   ],
   "source": [
    "train_images = os.listdir('data/train')\n",
    "test_images = os.listdir('data/test')\n",
    "\n",
    "print(len(train_images))\n",
    "print(len(test_images))"
   ]
  },
  {
   "cell_type": "code",
   "execution_count": 5,
   "metadata": {},
   "outputs": [
    {
     "data": {
      "text/plain": [
       "['cat.4213.jpg',\n",
       " 'cat.7203.jpg',\n",
       " 'dog.8250.jpg',\n",
       " 'dog.7907.jpg',\n",
       " 'dog.2318.jpg',\n",
       " 'cat.6480.jpg',\n",
       " 'dog.7973.jpg',\n",
       " 'dog.2225.jpg',\n",
       " 'dog.611.jpg',\n",
       " 'dog.5955.jpg']"
      ]
     },
     "execution_count": 5,
     "metadata": {},
     "output_type": "execute_result"
    }
   ],
   "source": [
    "train_images[:10]"
   ]
  },
  {
   "cell_type": "code",
   "execution_count": 6,
   "metadata": {},
   "outputs": [
    {
     "data": {
      "text/plain": [
       "['1818.jpg',\n",
       " '374.jpg',\n",
       " '1681.jpg',\n",
       " '2880.jpg',\n",
       " '2001.jpg',\n",
       " '11288.jpg',\n",
       " '4282.jpg',\n",
       " '7510.jpg',\n",
       " '11638.jpg',\n",
       " '8288.jpg']"
      ]
     },
     "execution_count": 6,
     "metadata": {},
     "output_type": "execute_result"
    }
   ],
   "source": [
    "test_images[:10]"
   ]
  },
  {
   "cell_type": "code",
   "execution_count": 7,
   "metadata": {
    "scrolled": true
   },
   "outputs": [
    {
     "name": "stderr",
     "output_type": "stream",
     "text": [
      "100%|██████████| 12500/12500 [00:51<00:00, 243.99it/s]\n"
     ]
    }
   ],
   "source": [
    "test_images_data = []\n",
    "\n",
    "for image in tqdm(test_images):\n",
    "    image_data = cv2.imread('data/test/' + image)\n",
    "    \n",
    "    #Convert to GrayScale\n",
    "    gray = cv2.cvtColor(image_data, cv2.COLOR_BGR2GRAY)\n",
    "    \n",
    "    #convert color from BGR to RGB\n",
    "    #image_data = cv2.cvtColor(image_data, cv2.COLOR_BGR2RGB)\n",
    "    \n",
    "    image_data = cv2.resize(gray, (64, 64))\n",
    "    \n",
    "    #turn to only borders\n",
    "    image_data = cv2.Canny(image_data, 150, 150)\n",
    "    \n",
    "    test_images_data.append(image_data)"
   ]
  },
  {
   "cell_type": "code",
   "execution_count": 8,
   "metadata": {},
   "outputs": [],
   "source": [
    "test_images_data = np.array(test_images_data)"
   ]
  },
  {
   "cell_type": "code",
   "execution_count": 13,
   "metadata": {},
   "outputs": [
    {
     "name": "stderr",
     "output_type": "stream",
     "text": [
      "100%|██████████| 25000/25000 [01:40<00:00, 248.21it/s]\n"
     ]
    }
   ],
   "source": [
    "train_images_data = []\n",
    "train_images_labels = []\n",
    "\n",
    "random.shuffle(train_images)\n",
    "\n",
    "for image in tqdm(train_images):\n",
    "    image_data = cv2.imread('data/train/' + image)\n",
    "    \n",
    "    #Convert to GrayScale\n",
    "    gray = cv2.cvtColor(image_data, cv2.COLOR_BGR2GRAY)\n",
    "    \n",
    "    #convert color from BGR to RGB\n",
    "    #image_data = cv2.cvtColor(image_data, cv2.COLOR_BGR2RGB)\n",
    "    \n",
    "    image_data = cv2.resize(gray, (64, 64))\n",
    "    \n",
    "    #turn to only borders\n",
    "    image_data = cv2.Canny(image_data, 150, 150)\n",
    "    \n",
    "    train_images_data.append(image_data)\n",
    "    train_images_data.append(image_data[:, ::-1]) #flipped image\n",
    "    \n",
    "    \n",
    "    if image.startswith('cat'):\n",
    "        train_images_labels.append(0)\n",
    "        train_images_labels.append(0)\n",
    "        #train_images_labels.append([0, 1])\n",
    "    else:\n",
    "        train_images_labels.append(1)\n",
    "        train_images_labels.append(1)\n",
    "        #train_images_labels.append([1, 0])"
   ]
  },
  {
   "cell_type": "code",
   "execution_count": 14,
   "metadata": {},
   "outputs": [],
   "source": [
    "train_images_data = np.array(train_images_data)\n",
    "train_images_labels = np.array(train_images_labels)\n",
    "\n",
    "train_images_data = train_images_data.reshape([-1, 64, 64, 1])"
   ]
  },
  {
   "cell_type": "code",
   "execution_count": 15,
   "metadata": {},
   "outputs": [],
   "source": [
    "pickle.dump(train_images_data, open('model_data/edges_train_images_data.pck', 'wb'))"
   ]
  },
  {
   "cell_type": "code",
   "execution_count": 16,
   "metadata": {},
   "outputs": [],
   "source": [
    "pickle.dump(test_images_data, open('model_data/edges_test_images_data.pck', 'wb'))"
   ]
  },
  {
   "cell_type": "code",
   "execution_count": 17,
   "metadata": {},
   "outputs": [],
   "source": [
    "pickle.dump(train_images_labels, open('model_data/edges_train_images_labels.pck', 'wb'))"
   ]
  },
  {
   "cell_type": "code",
   "execution_count": 22,
   "metadata": {},
   "outputs": [],
   "source": [
    "model_name = 'edges_model_epochs_100_conv_3_by_3_dropout' #"
   ]
  },
  {
   "cell_type": "code",
   "execution_count": 23,
   "metadata": {
    "scrolled": true
   },
   "outputs": [
    {
     "name": "stdout",
     "output_type": "stream",
     "text": [
      "Train on 40000 samples, validate on 10000 samples\n",
      "Epoch 1/100\n",
      "40000/40000 [==============================] - 788s 20ms/step - loss: 0.9321 - acc: 0.5664 - val_loss: 0.6722 - val_acc: 0.5887\n",
      "Epoch 2/100\n",
      "40000/40000 [==============================] - 788s 20ms/step - loss: 0.6759 - acc: 0.5821 - val_loss: 0.6707 - val_acc: 0.5916\n",
      "Epoch 3/100\n",
      "40000/40000 [==============================] - 785s 20ms/step - loss: 0.6698 - acc: 0.5953 - val_loss: 0.6617 - val_acc: 0.6070\n",
      "Epoch 4/100\n",
      "40000/40000 [==============================] - 820s 20ms/step - loss: 0.6470 - acc: 0.6327 - val_loss: 0.6072 - val_acc: 0.6649\n",
      "Epoch 5/100\n",
      "40000/40000 [==============================] - 777s 19ms/step - loss: 0.5871 - acc: 0.6925 - val_loss: 0.5568 - val_acc: 0.7122\n",
      "Epoch 6/100\n",
      "40000/40000 [==============================] - 724s 18ms/step - loss: 0.5489 - acc: 0.7274 - val_loss: 0.5347 - val_acc: 0.7306\n",
      "Epoch 7/100\n",
      "40000/40000 [==============================] - 749s 19ms/step - loss: 0.5242 - acc: 0.7445 - val_loss: 0.5161 - val_acc: 0.7459\n",
      "Epoch 8/100\n",
      "40000/40000 [==============================] - 610s 15ms/step - loss: 0.5016 - acc: 0.7562 - val_loss: 0.5101 - val_acc: 0.7543\n",
      "Epoch 9/100\n",
      "40000/40000 [==============================] - 705s 18ms/step - loss: 0.4861 - acc: 0.7680 - val_loss: 0.5112 - val_acc: 0.7469\n",
      "Epoch 10/100\n",
      "40000/40000 [==============================] - 802s 20ms/step - loss: 0.4700 - acc: 0.7766 - val_loss: 0.5112 - val_acc: 0.7495\n",
      "Epoch 11/100\n",
      "40000/40000 [==============================] - 622s 16ms/step - loss: 0.4545 - acc: 0.7851 - val_loss: 0.5227 - val_acc: 0.7424\n",
      "Epoch 12/100\n",
      "40000/40000 [==============================] - 690s 17ms/step - loss: 0.4474 - acc: 0.7893 - val_loss: 0.5116 - val_acc: 0.7507\n",
      "Epoch 13/100\n",
      "40000/40000 [==============================] - 598s 15ms/step - loss: 0.4334 - acc: 0.7950 - val_loss: 0.5206 - val_acc: 0.7508\n"
     ]
    },
    {
     "data": {
      "text/plain": [
       "<keras.callbacks.History at 0x7fdf54428b00>"
      ]
     },
     "execution_count": 23,
     "metadata": {},
     "output_type": "execute_result"
    }
   ],
   "source": [
    "model = Sequential() \n",
    "model.add(Conv2D(64, (3, 3), input_shape=(64, 64, 1))) \n",
    "model.add(Activation('relu')) \n",
    "model.add(MaxPooling2D(pool_size=(2, 2))) \n",
    "  \n",
    "model.add(Conv2D(32, (3, 3))) \n",
    "model.add(Activation('relu')) \n",
    "model.add(MaxPooling2D(pool_size=(2, 2))) \n",
    "  \n",
    "model.add(Conv2D(16, (3, 3))) \n",
    "model.add(Activation('relu')) \n",
    "model.add(MaxPooling2D(pool_size=(2, 2))) \n",
    "  \n",
    "model.add(Flatten()) \n",
    "model.add(Dense(50)) \n",
    "model.add(Activation('relu')) \n",
    "model.add(Dropout(0.5)) \n",
    "model.add(Dense(1)) \n",
    "model.add(Activation('sigmoid')) \n",
    "\n",
    "model.compile(loss='binary_crossentropy', \n",
    "              optimizer='adam', \n",
    "              metrics=['accuracy']) \n",
    "\n",
    "tensorboard = TensorBoard(log_dir=\"logs/{}\".format(model_name))\n",
    "early_stop = EarlyStopping(monitor='val_loss', patience=5)\n",
    "checkpoint = ModelCheckpoint(filepath='model_data/' + model_name + '_checkpoint.h5', monitor='val_loss', \n",
    "                             save_best_only=True)\n",
    "\n",
    "model.fit(train_images_data, train_images_labels, epochs=100, validation_split=0.2, \n",
    "          callbacks=[tensorboard, early_stop, checkpoint])"
   ]
  },
  {
   "cell_type": "code",
   "execution_count": 20,
   "metadata": {},
   "outputs": [],
   "source": [
    "#save the data as pickle files\n",
    "#save the model\n",
    "#run on test example images, about 10 to see classification"
   ]
  },
  {
   "cell_type": "code",
   "execution_count": 24,
   "metadata": {},
   "outputs": [],
   "source": [
    "model.save('models/' + model_name + '.h5')"
   ]
  },
  {
   "cell_type": "code",
   "execution_count": null,
   "metadata": {},
   "outputs": [],
   "source": []
  }
 ],
 "metadata": {
  "kernelspec": {
   "display_name": "Python 3",
   "language": "python",
   "name": "python3"
  },
  "language_info": {
   "codemirror_mode": {
    "name": "ipython",
    "version": 3
   },
   "file_extension": ".py",
   "mimetype": "text/x-python",
   "name": "python",
   "nbconvert_exporter": "python",
   "pygments_lexer": "ipython3",
   "version": "3.6.7"
  }
 },
 "nbformat": 4,
 "nbformat_minor": 2
}
