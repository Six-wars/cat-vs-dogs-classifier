{
 "cells": [
  {
   "cell_type": "code",
   "execution_count": 1,
   "metadata": {},
   "outputs": [
    {
     "name": "stderr",
     "output_type": "stream",
     "text": [
      "Using TensorFlow backend.\n"
     ]
    }
   ],
   "source": [
    "import os\n",
    "import sys\n",
    "import cv2\n",
    "\n",
    "import random\n",
    "\n",
    "import numpy as np\n",
    "\n",
    "from tqdm import tqdm\n",
    "import pickle\n",
    "\n",
    "from keras.models import Sequential \n",
    "from keras.layers import Conv2D, MaxPooling2D \n",
    "from keras.layers import Activation, Dropout, Flatten, Dense\n",
    "\n",
    "from keras.callbacks import TensorBoard, EarlyStopping, ModelCheckpoint\n",
    "\n",
    "import matplotlib.pyplot as plt\n",
    "\n",
    "%matplotlib inline"
   ]
  },
  {
   "cell_type": "code",
   "execution_count": null,
   "metadata": {},
   "outputs": [],
   "source": [
    "train_images = os.listdir('data/train')\n",
    "test_images = os.listdir('data/test')\n",
    "\n",
    "print(len(train_images))\n",
    "print(len(test_images))"
   ]
  },
  {
   "cell_type": "code",
   "execution_count": null,
   "metadata": {
    "scrolled": true
   },
   "outputs": [],
   "source": [
    "test_images_data = []\n",
    "\n",
    "for image in tqdm(test_images):\n",
    "    image_data = cv2.imread('data/test/' + image)\n",
    "\n",
    "    #convert color from BGR to RGB\n",
    "    image_data = cv2.cvtColor(image_data, cv2.COLOR_BGR2RGB)    \n",
    "    image_data = cv2.resize(image_data, (64, 64))\n",
    "    \n",
    "    test_images_data.append(image_data)"
   ]
  },
  {
   "cell_type": "code",
   "execution_count": null,
   "metadata": {},
   "outputs": [],
   "source": [
    "test_images_data = np.array(test_images_data)"
   ]
  },
  {
   "cell_type": "code",
   "execution_count": null,
   "metadata": {},
   "outputs": [],
   "source": [
    "train_images_data = []\n",
    "train_images_labels = []\n",
    "\n",
    "random.shuffle(train_images)\n",
    "\n",
    "for image in tqdm(train_images):\n",
    "    image_data = cv2.imread('data/train/' + image)\n",
    "    \n",
    "    #convert color from BGR to RGB\n",
    "    image_data = cv2.cvtColor(image_data, cv2.COLOR_BGR2RGB)\n",
    "    \n",
    "    image_data = cv2.resize(image_data, (64, 64))\n",
    "\n",
    "    train_images_data.append(image_data)\n",
    "    train_images_data.append(image_data[:, ::-1]) #flipped image\n",
    "    \n",
    "    if image.startswith('cat'):\n",
    "        train_images_labels.append(0)\n",
    "        train_images_labels.append(0)\n",
    "    else:\n",
    "        train_images_labels.append(1)\n",
    "        train_images_labels.append(1)"
   ]
  },
  {
   "cell_type": "code",
   "execution_count": null,
   "metadata": {},
   "outputs": [],
   "source": [
    "train_images_data = np.array(train_images_data)\n",
    "train_images_labels = np.array(train_images_labels)\n",
    "\n",
    "train_images_data = train_images_data.reshape([-1, 64, 64, 3])"
   ]
  },
  {
   "cell_type": "code",
   "execution_count": null,
   "metadata": {},
   "outputs": [],
   "source": [
    "pickle.dump(train_images_data, open('model_data/colored_train_images_data.pck', 'wb'))"
   ]
  },
  {
   "cell_type": "code",
   "execution_count": null,
   "metadata": {},
   "outputs": [],
   "source": [
    "pickle.dump(test_images_data, open('model_data/colored_test_images_data.pck', 'wb'))"
   ]
  },
  {
   "cell_type": "code",
   "execution_count": null,
   "metadata": {},
   "outputs": [],
   "source": [
    "pickle.dump(train_images_labels, open('model_data/colored_train_images_labels.pck', 'wb'))"
   ]
  },
  {
   "cell_type": "code",
   "execution_count": 2,
   "metadata": {},
   "outputs": [],
   "source": [
    "file = open('model_data/colored_test_images_data.pck','rb')\n",
    "test_images_data = pickle.load(file)"
   ]
  },
  {
   "cell_type": "code",
   "execution_count": 3,
   "metadata": {},
   "outputs": [],
   "source": [
    "file = open('model_data/colored_train_images_data.pck','rb')\n",
    "train_images_data = pickle.load(file)"
   ]
  },
  {
   "cell_type": "code",
   "execution_count": 4,
   "metadata": {},
   "outputs": [],
   "source": [
    "file = open('model_data/colored_train_images_labels.pck','rb')\n",
    "train_images_labels = pickle.load(file)"
   ]
  },
  {
   "cell_type": "code",
   "execution_count": 5,
   "metadata": {},
   "outputs": [],
   "source": [
    "model_name = 'colored_model_conv_3_by_3_batch_size_64_convs(80_40_20)_last_dense_10_dropout_10%' #"
   ]
  },
  {
   "cell_type": "code",
   "execution_count": 6,
   "metadata": {
    "scrolled": false
   },
   "outputs": [
    {
     "name": "stdout",
     "output_type": "stream",
     "text": [
      "Train on 45000 samples, validate on 5000 samples\n",
      "Epoch 1/100\n",
      "45000/45000 [==============================] - 943s 21ms/step - loss: 0.8187 - acc: 0.5322 - val_loss: 0.6416 - val_acc: 0.6258\n",
      "Epoch 2/100\n",
      "45000/45000 [==============================] - 921s 20ms/step - loss: 0.6336 - acc: 0.6288 - val_loss: 0.5790 - val_acc: 0.6966\n",
      "Epoch 3/100\n",
      "45000/45000 [==============================] - 921s 20ms/step - loss: 0.5656 - acc: 0.6983 - val_loss: 0.5781 - val_acc: 0.7028\n",
      "Epoch 4/100\n",
      "45000/45000 [==============================] - 918s 20ms/step - loss: 0.5162 - acc: 0.7448 - val_loss: 0.4658 - val_acc: 0.7846\n",
      "Epoch 5/100\n",
      "45000/45000 [==============================] - 919s 20ms/step - loss: 0.4730 - acc: 0.7803 - val_loss: 0.4603 - val_acc: 0.7772\n",
      "Epoch 6/100\n",
      "45000/45000 [==============================] - 920s 20ms/step - loss: 0.4355 - acc: 0.8011 - val_loss: 0.4148 - val_acc: 0.8162\n",
      "Epoch 7/100\n",
      "45000/45000 [==============================] - 918s 20ms/step - loss: 0.4099 - acc: 0.8153 - val_loss: 0.4176 - val_acc: 0.8042\n",
      "Epoch 8/100\n",
      "45000/45000 [==============================] - 919s 20ms/step - loss: 0.3883 - acc: 0.8286 - val_loss: 0.3685 - val_acc: 0.8388\n",
      "Epoch 9/100\n",
      "45000/45000 [==============================] - 919s 20ms/step - loss: 0.3632 - acc: 0.8398 - val_loss: 0.3681 - val_acc: 0.8346\n",
      "Epoch 10/100\n",
      "45000/45000 [==============================] - 919s 20ms/step - loss: 0.3521 - acc: 0.8461 - val_loss: 0.3638 - val_acc: 0.8380\n",
      "Epoch 11/100\n",
      "45000/45000 [==============================] - 919s 20ms/step - loss: 0.3361 - acc: 0.8542 - val_loss: 0.3637 - val_acc: 0.8440\n",
      "Epoch 12/100\n",
      "45000/45000 [==============================] - 919s 20ms/step - loss: 0.3225 - acc: 0.8614 - val_loss: 0.3521 - val_acc: 0.8514\n",
      "Epoch 13/100\n",
      "45000/45000 [==============================] - 919s 20ms/step - loss: 0.3099 - acc: 0.8689 - val_loss: 0.3421 - val_acc: 0.8554\n",
      "Epoch 14/100\n",
      "45000/45000 [==============================] - 919s 20ms/step - loss: 0.2975 - acc: 0.8732 - val_loss: 0.3678 - val_acc: 0.8494\n",
      "Epoch 15/100\n",
      "45000/45000 [==============================] - 919s 20ms/step - loss: 0.2922 - acc: 0.8764 - val_loss: 0.3321 - val_acc: 0.8546\n",
      "Epoch 16/100\n",
      "45000/45000 [==============================] - 920s 20ms/step - loss: 0.2808 - acc: 0.8814 - val_loss: 0.3357 - val_acc: 0.8578\n",
      "Epoch 17/100\n",
      "45000/45000 [==============================] - 920s 20ms/step - loss: 0.2739 - acc: 0.8856 - val_loss: 0.3333 - val_acc: 0.8556\n",
      "Epoch 18/100\n",
      "45000/45000 [==============================] - 920s 20ms/step - loss: 0.2600 - acc: 0.8912 - val_loss: 0.3532 - val_acc: 0.8568\n",
      "Epoch 19/100\n",
      "45000/45000 [==============================] - 925s 21ms/step - loss: 0.2531 - acc: 0.8962 - val_loss: 0.3402 - val_acc: 0.8632\n",
      "Epoch 20/100\n",
      "45000/45000 [==============================] - 935s 21ms/step - loss: 0.2489 - acc: 0.8969 - val_loss: 0.3497 - val_acc: 0.8524\n",
      "Epoch 21/100\n",
      "45000/45000 [==============================] - 941s 21ms/step - loss: 0.2457 - acc: 0.8989 - val_loss: 0.3696 - val_acc: 0.8534\n",
      "Epoch 22/100\n",
      "45000/45000 [==============================] - 946s 21ms/step - loss: 0.2372 - acc: 0.9028 - val_loss: 0.3359 - val_acc: 0.8662\n",
      "Epoch 23/100\n",
      "45000/45000 [==============================] - 952s 21ms/step - loss: 0.2320 - acc: 0.9040 - val_loss: 0.3414 - val_acc: 0.8644\n"
     ]
    },
    {
     "data": {
      "text/plain": [
       "<keras.callbacks.History at 0x7fac33b45f28>"
      ]
     },
     "execution_count": 6,
     "metadata": {},
     "output_type": "execute_result"
    }
   ],
   "source": [
    "model = Sequential() \n",
    "model.add(Conv2D(80, (3, 3), input_shape=(64, 64, 3))) \n",
    "model.add(Activation('relu')) \n",
    "model.add(MaxPooling2D(pool_size=(2, 2)))\n",
    "#model.add(Dropout(0.1)) \n",
    "  \n",
    "model.add(Conv2D(40, (3, 3))) \n",
    "model.add(Activation('relu')) \n",
    "model.add(MaxPooling2D(pool_size=(2, 2))) \n",
    "#model.add(Dropout(0.1)) \n",
    "  \n",
    "model.add(Conv2D(20, (3, 3))) \n",
    "model.add(Activation('relu')) \n",
    "model.add(MaxPooling2D(pool_size=(2, 2))) \n",
    "#model.add(Dropout(0.1)) \n",
    "  \n",
    "model.add(Flatten()) \n",
    "model.add(Dense(10)) #Increase to see how accuracy performs \n",
    "#consider also with 0.1 dropout it went from training with 25 to training with 45\n",
    "\n",
    "model.add(Activation('relu')) \n",
    "model.add(Dropout(0.1)) #compare 0.5 with to 0.1 then 0.2 and 0.3\n",
    "model.add(Dense(1)) \n",
    "model.add(Activation('sigmoid')) \n",
    "\n",
    "model.compile(loss='binary_crossentropy', \n",
    "              optimizer='adam', \n",
    "              metrics=['accuracy']) \n",
    "\n",
    "tensorboard = TensorBoard(log_dir=\"logs/{}\".format(model_name))\n",
    "early_stop = EarlyStopping(monitor='val_loss', patience=8)\n",
    "checkpoint = ModelCheckpoint(filepath='models/' + model_name + '.h5', monitor='val_loss', \n",
    "                             save_best_only=True)\n",
    "\n",
    "model.fit(train_images_data, train_images_labels, epochs=100, validation_split=0.1, \n",
    "          callbacks=[tensorboard, early_stop, checkpoint], batch_size=64) #move batch size to 32, 64, 128\n",
    "#and finally 256 see how accuracy performs\n",
    "\n",
    "#remember to try out with dropout per layer"
   ]
  },
  {
   "cell_type": "code",
   "execution_count": null,
   "metadata": {},
   "outputs": [],
   "source": []
  }
 ],
 "metadata": {
  "kernelspec": {
   "display_name": "Python 3",
   "language": "python",
   "name": "python3"
  },
  "language_info": {
   "codemirror_mode": {
    "name": "ipython",
    "version": 3
   },
   "file_extension": ".py",
   "mimetype": "text/x-python",
   "name": "python",
   "nbconvert_exporter": "python",
   "pygments_lexer": "ipython3",
   "version": "3.6.7"
  }
 },
 "nbformat": 4,
 "nbformat_minor": 2
}
