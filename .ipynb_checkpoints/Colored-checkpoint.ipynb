{
 "cells": [
  {
   "cell_type": "code",
   "execution_count": 1,
   "metadata": {},
   "outputs": [
    {
     "name": "stderr",
     "output_type": "stream",
     "text": [
      "Using TensorFlow backend.\n"
     ]
    }
   ],
   "source": [
    "import os\n",
    "import sys\n",
    "import cv2\n",
    "\n",
    "import random\n",
    "\n",
    "import numpy as np\n",
    "\n",
    "from tqdm import tqdm\n",
    "import pickle\n",
    "\n",
    "from keras.models import Sequential \n",
    "from keras.layers import Conv2D, MaxPooling2D \n",
    "from keras.layers import Activation, Dropout, Flatten, Dense\n",
    "\n",
    "from keras.callbacks import TensorBoard, EarlyStopping, ModelCheckpoint\n",
    "\n",
    "import matplotlib.pyplot as plt\n",
    "\n",
    "%matplotlib inline"
   ]
  },
  {
   "cell_type": "code",
   "execution_count": 2,
   "metadata": {},
   "outputs": [
    {
     "data": {
      "text/plain": [
       "['train', 'test', 'sample_submission.csv']"
      ]
     },
     "execution_count": 2,
     "metadata": {},
     "output_type": "execute_result"
    }
   ],
   "source": [
    "os.listdir('data')"
   ]
  },
  {
   "cell_type": "code",
   "execution_count": 3,
   "metadata": {},
   "outputs": [
    {
     "data": {
      "text/plain": [
       "25000"
      ]
     },
     "execution_count": 3,
     "metadata": {},
     "output_type": "execute_result"
    }
   ],
   "source": [
    "len(os.listdir('data/train'))"
   ]
  },
  {
   "cell_type": "code",
   "execution_count": 4,
   "metadata": {},
   "outputs": [
    {
     "name": "stdout",
     "output_type": "stream",
     "text": [
      "25000\n",
      "12500\n"
     ]
    }
   ],
   "source": [
    "train_images = os.listdir('data/train')\n",
    "test_images = os.listdir('data/test')\n",
    "\n",
    "print(len(train_images))\n",
    "print(len(test_images))"
   ]
  },
  {
   "cell_type": "code",
   "execution_count": 5,
   "metadata": {},
   "outputs": [
    {
     "data": {
      "text/plain": [
       "['cat.4213.jpg',\n",
       " 'cat.7203.jpg',\n",
       " 'dog.8250.jpg',\n",
       " 'dog.7907.jpg',\n",
       " 'dog.2318.jpg',\n",
       " 'cat.6480.jpg',\n",
       " 'dog.7973.jpg',\n",
       " 'dog.2225.jpg',\n",
       " 'dog.611.jpg',\n",
       " 'dog.5955.jpg']"
      ]
     },
     "execution_count": 5,
     "metadata": {},
     "output_type": "execute_result"
    }
   ],
   "source": [
    "train_images[:10]"
   ]
  },
  {
   "cell_type": "code",
   "execution_count": 6,
   "metadata": {},
   "outputs": [
    {
     "data": {
      "text/plain": [
       "['1818.jpg',\n",
       " '374.jpg',\n",
       " '1681.jpg',\n",
       " '2880.jpg',\n",
       " '2001.jpg',\n",
       " '11288.jpg',\n",
       " '4282.jpg',\n",
       " '7510.jpg',\n",
       " '11638.jpg',\n",
       " '8288.jpg']"
      ]
     },
     "execution_count": 6,
     "metadata": {},
     "output_type": "execute_result"
    }
   ],
   "source": [
    "test_images[:10]"
   ]
  },
  {
   "cell_type": "code",
   "execution_count": 7,
   "metadata": {
    "scrolled": true
   },
   "outputs": [
    {
     "name": "stderr",
     "output_type": "stream",
     "text": [
      "100%|██████████| 12500/12500 [05:19<00:00, 39.11it/s]\n"
     ]
    }
   ],
   "source": [
    "test_images_data = []\n",
    "\n",
    "for image in tqdm(test_images):\n",
    "    image_data = cv2.imread('data/test/' + image)\n",
    "\n",
    "    #convert color from BGR to RGB\n",
    "    image_data = cv2.cvtColor(image_data, cv2.COLOR_BGR2RGB)    \n",
    "    image_data = cv2.resize(image_data, (64, 64))\n",
    "    \n",
    "    test_images_data.append(image_data)"
   ]
  },
  {
   "cell_type": "code",
   "execution_count": 8,
   "metadata": {},
   "outputs": [],
   "source": [
    "test_images_data = np.array(test_images_data)"
   ]
  },
  {
   "cell_type": "code",
   "execution_count": 9,
   "metadata": {},
   "outputs": [
    {
     "name": "stderr",
     "output_type": "stream",
     "text": [
      "100%|██████████| 25000/25000 [07:40<00:00, 54.34it/s]\n"
     ]
    }
   ],
   "source": [
    "train_images_data = []\n",
    "train_images_labels = []\n",
    "\n",
    "random.shuffle(train_images)\n",
    "\n",
    "for image in tqdm(train_images):\n",
    "    image_data = cv2.imread('data/train/' + image)\n",
    "    \n",
    "    #convert color from BGR to RGB\n",
    "    image_data = cv2.cvtColor(image_data, cv2.COLOR_BGR2RGB)\n",
    "    \n",
    "    image_data = cv2.resize(image_data, (64, 64))\n",
    "\n",
    "    train_images_data.append(image_data)\n",
    "    train_images_data.append(image_data[:, ::-1]) #flipped image\n",
    "    \n",
    "    if image.startswith('cat'):\n",
    "        train_images_labels.append(0)\n",
    "        train_images_labels.append(0)\n",
    "    else:\n",
    "        train_images_labels.append(1)\n",
    "        train_images_labels.append(1)"
   ]
  },
  {
   "cell_type": "code",
   "execution_count": 10,
   "metadata": {},
   "outputs": [],
   "source": [
    "train_images_data = np.array(train_images_data)\n",
    "train_images_labels = np.array(train_images_labels)\n",
    "\n",
    "train_images_data = train_images_data.reshape([-1, 64, 64, 3])"
   ]
  },
  {
   "cell_type": "code",
   "execution_count": 11,
   "metadata": {},
   "outputs": [],
   "source": [
    "pickle.dump(train_images_data, open('model_data/colored_train_images_data.pck', 'wb'))"
   ]
  },
  {
   "cell_type": "code",
   "execution_count": 12,
   "metadata": {},
   "outputs": [],
   "source": [
    "pickle.dump(test_images_data, open('model_data/colored_test_images_data.pck', 'wb'))"
   ]
  },
  {
   "cell_type": "code",
   "execution_count": 13,
   "metadata": {},
   "outputs": [],
   "source": [
    "pickle.dump(train_images_labels, open('model_data/colored_train_images_labels.pck', 'wb'))"
   ]
  },
  {
   "cell_type": "code",
   "execution_count": 2,
   "metadata": {},
   "outputs": [],
   "source": [
    "file = open('model_data/colored_train_images_data.pck','rb')\n",
    "train_images_data = pickle.load(file)"
   ]
  },
  {
   "cell_type": "code",
   "execution_count": 3,
   "metadata": {},
   "outputs": [],
   "source": [
    "file = open('model_data/colored_test_images_data.pck','rb')\n",
    "test_images_data = pickle.load(file)"
   ]
  },
  {
   "cell_type": "code",
   "execution_count": 4,
   "metadata": {},
   "outputs": [],
   "source": [
    "file = open('model_data/colored_train_images_labels.pck','rb')\n",
    "train_images_labels = pickle.load(file)"
   ]
  },
  {
   "cell_type": "code",
   "execution_count": 5,
   "metadata": {},
   "outputs": [],
   "source": [
    "model_name = 'colored_model_epochs_100_conv_5_by_5_dropout_batch_size_32' #"
   ]
  },
  {
   "cell_type": "code",
   "execution_count": 6,
   "metadata": {
    "scrolled": false
   },
   "outputs": [
    {
     "name": "stdout",
     "output_type": "stream",
     "text": [
      "Train on 40000 samples, validate on 10000 samples\n",
      "Epoch 1/100\n",
      "40000/40000 [==============================] - 869s 22ms/step - loss: 0.8881 - acc: 0.5169 - val_loss: 0.6889 - val_acc: 0.5474\n",
      "Epoch 2/100\n",
      "40000/40000 [==============================] - 811s 20ms/step - loss: 0.6903 - acc: 0.5250 - val_loss: 0.6825 - val_acc: 0.5566\n",
      "Epoch 3/100\n",
      "40000/40000 [==============================] - 855s 21ms/step - loss: 0.6894 - acc: 0.5215 - val_loss: 0.6833 - val_acc: 0.5579\n",
      "Epoch 4/100\n",
      "40000/40000 [==============================] - 933s 23ms/step - loss: 0.6838 - acc: 0.5501 - val_loss: 0.6787 - val_acc: 0.5644\n",
      "Epoch 5/100\n",
      "40000/40000 [==============================] - 950s 24ms/step - loss: 0.6733 - acc: 0.5788 - val_loss: 0.6523 - val_acc: 0.6190\n",
      "Epoch 6/100\n",
      "40000/40000 [==============================] - 753s 19ms/step - loss: 0.6496 - acc: 0.6245 - val_loss: 0.6295 - val_acc: 0.6533\n",
      "Epoch 7/100\n",
      "40000/40000 [==============================] - 718s 18ms/step - loss: 0.6247 - acc: 0.6521 - val_loss: 0.6052 - val_acc: 0.6828\n",
      "Epoch 8/100\n",
      "40000/40000 [==============================] - 718s 18ms/step - loss: 0.6045 - acc: 0.6763 - val_loss: 0.5751 - val_acc: 0.6952\n",
      "Epoch 9/100\n",
      "40000/40000 [==============================] - 718s 18ms/step - loss: 0.5855 - acc: 0.6909 - val_loss: 0.5932 - val_acc: 0.6832\n",
      "Epoch 10/100\n",
      "40000/40000 [==============================] - 719s 18ms/step - loss: 0.5714 - acc: 0.7048 - val_loss: 0.5567 - val_acc: 0.7138\n",
      "Epoch 11/100\n",
      "40000/40000 [==============================] - 713s 18ms/step - loss: 0.5540 - acc: 0.7194 - val_loss: 0.5448 - val_acc: 0.7294\n",
      "Epoch 12/100\n",
      "40000/40000 [==============================] - 714s 18ms/step - loss: 0.5450 - acc: 0.7275 - val_loss: 0.5295 - val_acc: 0.7407\n",
      "Epoch 13/100\n",
      "40000/40000 [==============================] - 714s 18ms/step - loss: 0.5359 - acc: 0.7323 - val_loss: 0.5187 - val_acc: 0.7483\n",
      "Epoch 14/100\n",
      "40000/40000 [==============================] - 716s 18ms/step - loss: 0.5287 - acc: 0.7379 - val_loss: 0.5259 - val_acc: 0.7419\n",
      "Epoch 15/100\n",
      "40000/40000 [==============================] - 715s 18ms/step - loss: 0.5226 - acc: 0.7422 - val_loss: 0.5209 - val_acc: 0.7490\n",
      "Epoch 16/100\n",
      "40000/40000 [==============================] - 716s 18ms/step - loss: 0.5161 - acc: 0.7444 - val_loss: 0.5235 - val_acc: 0.7424\n",
      "Epoch 17/100\n",
      "40000/40000 [==============================] - 716s 18ms/step - loss: 0.5091 - acc: 0.7516 - val_loss: 0.5164 - val_acc: 0.7615\n",
      "Epoch 18/100\n",
      "40000/40000 [==============================] - 716s 18ms/step - loss: 0.5046 - acc: 0.7534 - val_loss: 0.5111 - val_acc: 0.7570\n",
      "Epoch 19/100\n",
      "40000/40000 [==============================] - 717s 18ms/step - loss: 0.4960 - acc: 0.7626 - val_loss: 0.5115 - val_acc: 0.7561\n",
      "Epoch 20/100\n",
      "40000/40000 [==============================] - 716s 18ms/step - loss: 0.4896 - acc: 0.7639 - val_loss: 0.5083 - val_acc: 0.7551\n",
      "Epoch 21/100\n",
      "40000/40000 [==============================] - 716s 18ms/step - loss: 0.4827 - acc: 0.7686 - val_loss: 0.4943 - val_acc: 0.7710\n",
      "Epoch 22/100\n",
      "40000/40000 [==============================] - 716s 18ms/step - loss: 0.4794 - acc: 0.7721 - val_loss: 0.4932 - val_acc: 0.7698\n",
      "Epoch 23/100\n",
      "40000/40000 [==============================] - 715s 18ms/step - loss: 0.4716 - acc: 0.7756 - val_loss: 0.4888 - val_acc: 0.7718\n",
      "Epoch 24/100\n",
      "40000/40000 [==============================] - 716s 18ms/step - loss: 0.4674 - acc: 0.7771 - val_loss: 0.5007 - val_acc: 0.7625\n",
      "Epoch 25/100\n",
      "40000/40000 [==============================] - 716s 18ms/step - loss: 0.4630 - acc: 0.7807 - val_loss: 0.4999 - val_acc: 0.7720\n",
      "Epoch 26/100\n",
      "40000/40000 [==============================] - 716s 18ms/step - loss: 0.4550 - acc: 0.7855 - val_loss: 0.4982 - val_acc: 0.7682\n",
      "Epoch 27/100\n",
      "40000/40000 [==============================] - 716s 18ms/step - loss: 0.4512 - acc: 0.7879 - val_loss: 0.4811 - val_acc: 0.7795\n",
      "Epoch 28/100\n",
      "40000/40000 [==============================] - 716s 18ms/step - loss: 0.4438 - acc: 0.7940 - val_loss: 0.5043 - val_acc: 0.7693\n",
      "Epoch 29/100\n",
      "40000/40000 [==============================] - 717s 18ms/step - loss: 0.4395 - acc: 0.7956 - val_loss: 0.4912 - val_acc: 0.7731\n",
      "Epoch 30/100\n",
      "40000/40000 [==============================] - 725s 18ms/step - loss: 0.4340 - acc: 0.7987 - val_loss: 0.4997 - val_acc: 0.7744\n",
      "Epoch 31/100\n",
      "40000/40000 [==============================] - 731s 18ms/step - loss: 0.4275 - acc: 0.8026 - val_loss: 0.4883 - val_acc: 0.7780\n",
      "Epoch 32/100\n",
      "40000/40000 [==============================] - 735s 18ms/step - loss: 0.4239 - acc: 0.8039 - val_loss: 0.4913 - val_acc: 0.7742\n",
      "Epoch 33/100\n",
      "40000/40000 [==============================] - 737s 18ms/step - loss: 0.4199 - acc: 0.8077 - val_loss: 0.4937 - val_acc: 0.7838\n",
      "Epoch 34/100\n",
      "40000/40000 [==============================] - 741s 19ms/step - loss: 0.4166 - acc: 0.8079 - val_loss: 0.5052 - val_acc: 0.7807\n",
      "Epoch 35/100\n",
      "40000/40000 [==============================] - 744s 19ms/step - loss: 0.4140 - acc: 0.8094 - val_loss: 0.4952 - val_acc: 0.7878\n"
     ]
    },
    {
     "data": {
      "text/plain": [
       "<keras.callbacks.History at 0x7f4553150e48>"
      ]
     },
     "execution_count": 6,
     "metadata": {},
     "output_type": "execute_result"
    }
   ],
   "source": [
    "model = Sequential() \n",
    "model.add(Conv2D(64, (5, 5), input_shape=(64, 64, 3))) \n",
    "model.add(Activation('relu')) \n",
    "model.add(MaxPooling2D(pool_size=(2, 2)))\n",
    "#model.add(Dropout(0.25)) \n",
    "  \n",
    "model.add(Conv2D(32, (3, 3))) \n",
    "model.add(Activation('relu')) \n",
    "model.add(MaxPooling2D(pool_size=(2, 2))) \n",
    "#model.add(Dropout(0.25)) \n",
    "  \n",
    "model.add(Conv2D(16, (3, 3))) \n",
    "model.add(Activation('relu')) \n",
    "model.add(MaxPooling2D(pool_size=(2, 2))) \n",
    "#model.add(Dropout(0.25)) \n",
    "  \n",
    "model.add(Flatten()) \n",
    "model.add(Dense(50)) #Increase to 100 and even 200 see how the accuracy performs\n",
    "model.add(Activation('relu')) \n",
    "model.add(Dropout(0.5)) \n",
    "model.add(Dense(1)) \n",
    "model.add(Activation('sigmoid')) \n",
    "\n",
    "model.compile(loss='binary_crossentropy', \n",
    "              optimizer='adam', \n",
    "              metrics=['accuracy']) \n",
    "\n",
    "tensorboard = TensorBoard(log_dir=\"logs/{}\".format(model_name))\n",
    "early_stop = EarlyStopping(monitor='val_loss', patience=8)\n",
    "checkpoint = ModelCheckpoint(filepath='models/' + model_name + '.h5', monitor='val_loss', \n",
    "                             save_best_only=True)\n",
    "\n",
    "model.fit(train_images_data, train_images_labels, epochs=100, validation_split=0.2, \n",
    "          callbacks=[tensorboard, early_stop, checkpoint], batch_size=32) #move batch size to 32, 64, 128\n",
    "#and finally 256 see how accuracy performs\n",
    "\n",
    "#remember to try out with dropout per layer\n",
    "\n",
    "#next try a filter of 8 by 8\n",
    "#and finally an image size of 80 by 80 with a smaller filter of 5 by 5 then 8 by 8"
   ]
  },
  {
   "cell_type": "code",
   "execution_count": null,
   "metadata": {},
   "outputs": [],
   "source": []
  }
 ],
 "metadata": {
  "kernelspec": {
   "display_name": "Python 3",
   "language": "python",
   "name": "python3"
  },
  "language_info": {
   "codemirror_mode": {
    "name": "ipython",
    "version": 3
   },
   "file_extension": ".py",
   "mimetype": "text/x-python",
   "name": "python",
   "nbconvert_exporter": "python",
   "pygments_lexer": "ipython3",
   "version": "3.6.7"
  }
 },
 "nbformat": 4,
 "nbformat_minor": 2
}
