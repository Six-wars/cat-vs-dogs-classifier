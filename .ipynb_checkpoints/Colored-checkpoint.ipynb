{
 "cells": [
  {
   "cell_type": "code",
   "execution_count": 1,
   "metadata": {},
   "outputs": [
    {
     "name": "stderr",
     "output_type": "stream",
     "text": [
      "Using TensorFlow backend.\n"
     ]
    }
   ],
   "source": [
    "import os\n",
    "import sys\n",
    "import cv2\n",
    "\n",
    "import random\n",
    "\n",
    "import numpy as np\n",
    "\n",
    "from tqdm import tqdm\n",
    "import pickle\n",
    "\n",
    "from keras.models import Sequential \n",
    "from keras.layers import Conv2D, MaxPooling2D \n",
    "from keras.layers import Activation, Dropout, Flatten, Dense\n",
    "\n",
    "from keras.callbacks import TensorBoard, EarlyStopping, ModelCheckpoint\n",
    "\n",
    "import matplotlib.pyplot as plt\n",
    "\n",
    "%matplotlib inline"
   ]
  },
  {
   "cell_type": "code",
   "execution_count": null,
   "metadata": {},
   "outputs": [],
   "source": [
    "train_images = os.listdir('data/train')\n",
    "test_images = os.listdir('data/test')\n",
    "\n",
    "print(len(train_images))\n",
    "print(len(test_images))"
   ]
  },
  {
   "cell_type": "code",
   "execution_count": null,
   "metadata": {
    "scrolled": true
   },
   "outputs": [],
   "source": [
    "test_images_data = []\n",
    "\n",
    "for image in tqdm(test_images):\n",
    "    image_data = cv2.imread('data/test/' + image)\n",
    "\n",
    "    #convert color from BGR to RGB\n",
    "    image_data = cv2.cvtColor(image_data, cv2.COLOR_BGR2RGB)    \n",
    "    image_data = cv2.resize(image_data, (64, 64))\n",
    "    \n",
    "    test_images_data.append(image_data)"
   ]
  },
  {
   "cell_type": "code",
   "execution_count": null,
   "metadata": {},
   "outputs": [],
   "source": [
    "test_images_data = np.array(test_images_data)"
   ]
  },
  {
   "cell_type": "code",
   "execution_count": null,
   "metadata": {},
   "outputs": [],
   "source": [
    "train_images_data = []\n",
    "train_images_labels = []\n",
    "\n",
    "random.shuffle(train_images)\n",
    "\n",
    "for image in tqdm(train_images):\n",
    "    image_data = cv2.imread('data/train/' + image)\n",
    "    \n",
    "    #convert color from BGR to RGB\n",
    "    image_data = cv2.cvtColor(image_data, cv2.COLOR_BGR2RGB)\n",
    "    \n",
    "    image_data = cv2.resize(image_data, (64, 64))\n",
    "\n",
    "    train_images_data.append(image_data)\n",
    "    train_images_data.append(image_data[:, ::-1]) #flipped image\n",
    "    \n",
    "    if image.startswith('cat'):\n",
    "        train_images_labels.append(0)\n",
    "        train_images_labels.append(0)\n",
    "    else:\n",
    "        train_images_labels.append(1)\n",
    "        train_images_labels.append(1)"
   ]
  },
  {
   "cell_type": "code",
   "execution_count": null,
   "metadata": {},
   "outputs": [],
   "source": [
    "train_images_data = np.array(train_images_data)\n",
    "train_images_labels = np.array(train_images_labels)\n",
    "\n",
    "train_images_data = train_images_data.reshape([-1, 64, 64, 3])"
   ]
  },
  {
   "cell_type": "code",
   "execution_count": null,
   "metadata": {},
   "outputs": [],
   "source": [
    "pickle.dump(train_images_data, open('model_data/colored_train_images_data.pck', 'wb'))"
   ]
  },
  {
   "cell_type": "code",
   "execution_count": null,
   "metadata": {},
   "outputs": [],
   "source": [
    "pickle.dump(test_images_data, open('model_data/colored_test_images_data.pck', 'wb'))"
   ]
  },
  {
   "cell_type": "code",
   "execution_count": null,
   "metadata": {},
   "outputs": [],
   "source": [
    "pickle.dump(train_images_labels, open('model_data/colored_train_images_labels.pck', 'wb'))"
   ]
  },
  {
   "cell_type": "code",
   "execution_count": 2,
   "metadata": {},
   "outputs": [],
   "source": [
    "file = open('model_data/colored_test_images_data.pck','rb')\n",
    "test_images_data = pickle.load(file)"
   ]
  },
  {
   "cell_type": "code",
   "execution_count": 3,
   "metadata": {},
   "outputs": [],
   "source": [
    "file = open('model_data/colored_train_images_data.pck','rb')\n",
    "train_images_data = pickle.load(file)"
   ]
  },
  {
   "cell_type": "code",
   "execution_count": 4,
   "metadata": {},
   "outputs": [],
   "source": [
    "file = open('model_data/colored_train_images_labels.pck','rb')\n",
    "train_images_labels = pickle.load(file)"
   ]
  },
  {
   "cell_type": "code",
   "execution_count": 5,
   "metadata": {},
   "outputs": [],
   "source": [
    "model_name = 'colored_model_conv_3_by_3_batch_size_64_convs(40_20_10)_last_dense_20_dropout_10%' #"
   ]
  },
  {
   "cell_type": "code",
   "execution_count": 6,
   "metadata": {
    "scrolled": false
   },
   "outputs": [
    {
     "name": "stdout",
     "output_type": "stream",
     "text": [
      "Train on 45000 samples, validate on 5000 samples\n",
      "Epoch 1/100\n",
      "45000/45000 [==============================] - 994s 22ms/step - loss: 0.7296 - acc: 0.5774 - val_loss: 0.6291 - val_acc: 0.6414\n",
      "Epoch 2/100\n",
      "45000/45000 [==============================] - 985s 22ms/step - loss: 0.5961 - acc: 0.6699 - val_loss: 0.5342 - val_acc: 0.7390\n",
      "Epoch 3/100\n",
      "45000/45000 [==============================] - 1020s 23ms/step - loss: 0.5217 - acc: 0.7273 - val_loss: 0.4639 - val_acc: 0.7826\n",
      "Epoch 4/100\n",
      "45000/45000 [==============================] - 1030s 23ms/step - loss: 0.4773 - acc: 0.7516 - val_loss: 0.4467 - val_acc: 0.7848\n",
      "Epoch 5/100\n",
      "45000/45000 [==============================] - 967s 21ms/step - loss: 0.4418 - acc: 0.7739 - val_loss: 0.3943 - val_acc: 0.8226\n",
      "Epoch 6/100\n",
      "45000/45000 [==============================] - 992s 22ms/step - loss: 0.4158 - acc: 0.8126 - val_loss: 0.3904 - val_acc: 0.8178\n",
      "Epoch 7/100\n",
      "45000/45000 [==============================] - 1109s 25ms/step - loss: 0.3861 - acc: 0.8290 - val_loss: 0.4775 - val_acc: 0.7876\n",
      "Epoch 8/100\n",
      "45000/45000 [==============================] - 1119s 25ms/step - loss: 0.3672 - acc: 0.8369 - val_loss: 0.3685 - val_acc: 0.8396\n",
      "Epoch 9/100\n",
      "45000/45000 [==============================] - 1115s 25ms/step - loss: 0.3462 - acc: 0.8520 - val_loss: 0.3562 - val_acc: 0.8436\n",
      "Epoch 10/100\n",
      "45000/45000 [==============================] - 1095s 24ms/step - loss: 0.3339 - acc: 0.8576 - val_loss: 0.4128 - val_acc: 0.8334\n",
      "Epoch 11/100\n",
      "45000/45000 [==============================] - 1047s 23ms/step - loss: 0.3169 - acc: 0.8634 - val_loss: 0.4013 - val_acc: 0.8472\n",
      "Epoch 12/100\n",
      "45000/45000 [==============================] - 1030s 23ms/step - loss: 0.3045 - acc: 0.8704 - val_loss: 0.3422 - val_acc: 0.8456\n",
      "Epoch 13/100\n",
      "45000/45000 [==============================] - 1061s 24ms/step - loss: 0.2938 - acc: 0.8758 - val_loss: 0.3208 - val_acc: 0.8612\n",
      "Epoch 14/100\n",
      "45000/45000 [==============================] - 1028s 23ms/step - loss: 0.2818 - acc: 0.8826 - val_loss: 0.3274 - val_acc: 0.8596\n",
      "Epoch 15/100\n",
      "45000/45000 [==============================] - 1191s 26ms/step - loss: 0.2708 - acc: 0.8863 - val_loss: 0.3402 - val_acc: 0.8502\n",
      "Epoch 16/100\n",
      "45000/45000 [==============================] - 1199s 27ms/step - loss: 0.2617 - acc: 0.8912 - val_loss: 0.3775 - val_acc: 0.8538\n",
      "Epoch 17/100\n",
      "45000/45000 [==============================] - 960s 21ms/step - loss: 0.2505 - acc: 0.8960 - val_loss: 0.3388 - val_acc: 0.8628\n",
      "Epoch 18/100\n",
      "45000/45000 [==============================] - 996s 22ms/step - loss: 0.2388 - acc: 0.8999 - val_loss: 0.3687 - val_acc: 0.8600\n",
      "Epoch 19/100\n",
      "45000/45000 [==============================] - 962s 21ms/step - loss: 0.2329 - acc: 0.9040 - val_loss: 0.3520 - val_acc: 0.8480\n",
      "Epoch 20/100\n",
      "45000/45000 [==============================] - 963s 21ms/step - loss: 0.2264 - acc: 0.9063 - val_loss: 0.3678 - val_acc: 0.8658\n",
      "Epoch 21/100\n",
      "45000/45000 [==============================] - 1050s 23ms/step - loss: 0.2183 - acc: 0.9108 - val_loss: 0.3618 - val_acc: 0.8526\n"
     ]
    },
    {
     "data": {
      "text/plain": [
       "<keras.callbacks.History at 0x7fcbd6ca9f28>"
      ]
     },
     "execution_count": 6,
     "metadata": {},
     "output_type": "execute_result"
    }
   ],
   "source": [
    "model = Sequential() \n",
    "model.add(Conv2D(40, (3, 3), input_shape=(64, 64, 3))) \n",
    "model.add(Activation('relu')) \n",
    "model.add(MaxPooling2D(pool_size=(2, 2)))\n",
    "#model.add(Dropout(0.1)) \n",
    "  \n",
    "model.add(Conv2D(20, (3, 3))) \n",
    "model.add(Activation('relu')) \n",
    "model.add(MaxPooling2D(pool_size=(2, 2))) \n",
    "#model.add(Dropout(0.1)) \n",
    "  \n",
    "model.add(Conv2D(10, (3, 3))) \n",
    "model.add(Activation('relu')) \n",
    "model.add(MaxPooling2D(pool_size=(2, 2))) \n",
    "#model.add(Dropout(0.1)) \n",
    "  \n",
    "model.add(Flatten()) \n",
    "model.add(Dense(20)) #Increase to see how accuracy performs \n",
    "#consider also with 0.1 dropout it went from training with 25 to training with 45\n",
    "\n",
    "model.add(Activation('relu')) \n",
    "model.add(Dropout(0.1)) #compare 0.5 with to 0.1 then 0.2 and 0.3\n",
    "model.add(Dense(1)) \n",
    "model.add(Activation('sigmoid')) \n",
    "\n",
    "model.compile(loss='binary_crossentropy', \n",
    "              optimizer='adam', \n",
    "              metrics=['accuracy']) \n",
    "\n",
    "tensorboard = TensorBoard(log_dir=\"logs/{}\".format(model_name))\n",
    "early_stop = EarlyStopping(monitor='val_loss', patience=8)\n",
    "checkpoint = ModelCheckpoint(filepath='models/' + model_name + '.h5', monitor='val_loss', \n",
    "                             save_best_only=True)\n",
    "\n",
    "model.fit(train_images_data, train_images_labels, epochs=100, validation_split=0.1, \n",
    "          callbacks=[tensorboard, early_stop, checkpoint], batch_size=64) #move batch size to 32, 64, 128\n",
    "#and finally 256 see how accuracy performs\n",
    "\n",
    "#remember to try out with dropout per layer"
   ]
  },
  {
   "cell_type": "code",
   "execution_count": null,
   "metadata": {},
   "outputs": [],
   "source": []
  }
 ],
 "metadata": {
  "kernelspec": {
   "display_name": "Python 3",
   "language": "python",
   "name": "python3"
  },
  "language_info": {
   "codemirror_mode": {
    "name": "ipython",
    "version": 3
   },
   "file_extension": ".py",
   "mimetype": "text/x-python",
   "name": "python",
   "nbconvert_exporter": "python",
   "pygments_lexer": "ipython3",
   "version": "3.6.7"
  }
 },
 "nbformat": 4,
 "nbformat_minor": 2
}
