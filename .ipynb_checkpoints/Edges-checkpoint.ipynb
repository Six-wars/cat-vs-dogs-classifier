{
 "cells": [
  {
   "cell_type": "code",
   "execution_count": 1,
   "metadata": {},
   "outputs": [
    {
     "name": "stderr",
     "output_type": "stream",
     "text": [
      "Using TensorFlow backend.\n"
     ]
    }
   ],
   "source": [
    "import os\n",
    "import sys\n",
    "import cv2\n",
    "\n",
    "import random\n",
    "\n",
    "import numpy as np\n",
    "\n",
    "from tqdm import tqdm\n",
    "import pickle\n",
    "\n",
    "from keras.models import Sequential \n",
    "from keras.layers import Conv2D, MaxPooling2D \n",
    "from keras.layers import Activation, Dropout, Flatten, Dense\n",
    "\n",
    "from keras.callbacks import TensorBoard, EarlyStopping, ModelCheckpoint\n",
    "\n",
    "import matplotlib.pyplot as plt\n",
    "\n",
    "%matplotlib inline"
   ]
  },
  {
   "cell_type": "code",
   "execution_count": 2,
   "metadata": {},
   "outputs": [
    {
     "data": {
      "text/plain": [
       "['train', 'test', 'sample_submission.csv']"
      ]
     },
     "execution_count": 2,
     "metadata": {},
     "output_type": "execute_result"
    }
   ],
   "source": [
    "os.listdir('data')"
   ]
  },
  {
   "cell_type": "code",
   "execution_count": 3,
   "metadata": {},
   "outputs": [
    {
     "name": "stdout",
     "output_type": "stream",
     "text": [
      "25000\n",
      "12500\n"
     ]
    }
   ],
   "source": [
    "train_images = os.listdir('data/train')\n",
    "test_images = os.listdir('data/test')\n",
    "\n",
    "print(len(train_images))\n",
    "print(len(test_images))"
   ]
  },
  {
   "cell_type": "code",
   "execution_count": 4,
   "metadata": {},
   "outputs": [
    {
     "data": {
      "text/plain": [
       "['cat.4213.jpg',\n",
       " 'cat.7203.jpg',\n",
       " 'dog.8250.jpg',\n",
       " 'dog.7907.jpg',\n",
       " 'dog.2318.jpg',\n",
       " 'cat.6480.jpg',\n",
       " 'dog.7973.jpg',\n",
       " 'dog.2225.jpg',\n",
       " 'dog.611.jpg',\n",
       " 'dog.5955.jpg']"
      ]
     },
     "execution_count": 4,
     "metadata": {},
     "output_type": "execute_result"
    }
   ],
   "source": [
    "train_images[:10]"
   ]
  },
  {
   "cell_type": "code",
   "execution_count": 5,
   "metadata": {},
   "outputs": [
    {
     "data": {
      "text/plain": [
       "['1818.jpg',\n",
       " '374.jpg',\n",
       " '1681.jpg',\n",
       " '2880.jpg',\n",
       " '2001.jpg',\n",
       " '11288.jpg',\n",
       " '4282.jpg',\n",
       " '7510.jpg',\n",
       " '11638.jpg',\n",
       " '8288.jpg']"
      ]
     },
     "execution_count": 5,
     "metadata": {},
     "output_type": "execute_result"
    }
   ],
   "source": [
    "test_images[:10]"
   ]
  },
  {
   "cell_type": "code",
   "execution_count": 6,
   "metadata": {
    "scrolled": true
   },
   "outputs": [
    {
     "name": "stderr",
     "output_type": "stream",
     "text": [
      "100%|██████████| 12500/12500 [00:50<00:00, 249.20it/s]\n"
     ]
    }
   ],
   "source": [
    "test_images_data = []\n",
    "\n",
    "for image in tqdm(test_images):\n",
    "    image_data = cv2.imread('data/test/' + image)\n",
    "    \n",
    "    #Convert to GrayScale\n",
    "    gray = cv2.cvtColor(image_data, cv2.COLOR_BGR2GRAY)\n",
    "    \n",
    "    #convert color from BGR to RGB\n",
    "    #image_data = cv2.cvtColor(image_data, cv2.COLOR_BGR2RGB)\n",
    "    \n",
    "    image_data = cv2.resize(gray, (64, 64))\n",
    "    \n",
    "    #turn to only borders\n",
    "    image_data = cv2.Canny(image_data, 150, 150)\n",
    "    \n",
    "    test_images_data.append(image_data)"
   ]
  },
  {
   "cell_type": "code",
   "execution_count": 7,
   "metadata": {},
   "outputs": [],
   "source": [
    "test_images_data = np.array(test_images_data)"
   ]
  },
  {
   "cell_type": "code",
   "execution_count": 8,
   "metadata": {},
   "outputs": [
    {
     "name": "stderr",
     "output_type": "stream",
     "text": [
      "100%|██████████| 25000/25000 [01:42<00:00, 243.46it/s]\n"
     ]
    }
   ],
   "source": [
    "train_images_data = []\n",
    "train_images_labels = []\n",
    "\n",
    "random.shuffle(train_images)\n",
    "\n",
    "for image in tqdm(train_images):\n",
    "    image_data = cv2.imread('data/train/' + image)\n",
    "    \n",
    "    #Convert to GrayScale\n",
    "    gray = cv2.cvtColor(image_data, cv2.COLOR_BGR2GRAY)\n",
    "    \n",
    "    #convert color from BGR to RGB\n",
    "    #image_data = cv2.cvtColor(image_data, cv2.COLOR_BGR2RGB)\n",
    "    \n",
    "    image_data = cv2.resize(gray, (64, 64))\n",
    "    \n",
    "    #turn to only borders\n",
    "    image_data = cv2.Canny(image_data, 150, 150)\n",
    "    \n",
    "    train_images_data.append(image_data)\n",
    "    train_images_data.append(image_data[:, ::-1]) #flipped image\n",
    "    \n",
    "    \n",
    "    if image.startswith('cat'):\n",
    "        train_images_labels.append(0)\n",
    "        train_images_labels.append(0)\n",
    "        #train_images_labels.append([0, 1])\n",
    "    else:\n",
    "        train_images_labels.append(1)\n",
    "        train_images_labels.append(1)\n",
    "        #train_images_labels.append([1, 0])"
   ]
  },
  {
   "cell_type": "code",
   "execution_count": 9,
   "metadata": {},
   "outputs": [],
   "source": [
    "train_images_data = np.array(train_images_data)\n",
    "train_images_labels = np.array(train_images_labels)\n",
    "\n",
    "train_images_data = train_images_data.reshape([-1, 64, 64, 1])"
   ]
  },
  {
   "cell_type": "code",
   "execution_count": 10,
   "metadata": {},
   "outputs": [],
   "source": [
    "pickle.dump(train_images_data, open('model_data/edges_train_images_data.pck', 'wb'))"
   ]
  },
  {
   "cell_type": "code",
   "execution_count": 11,
   "metadata": {},
   "outputs": [],
   "source": [
    "pickle.dump(test_images_data, open('model_data/edges_test_images_data.pck', 'wb'))"
   ]
  },
  {
   "cell_type": "code",
   "execution_count": 12,
   "metadata": {},
   "outputs": [],
   "source": [
    "pickle.dump(train_images_labels, open('model_data/edges_train_images_labels.pck', 'wb'))"
   ]
  },
  {
   "cell_type": "code",
   "execution_count": 13,
   "metadata": {},
   "outputs": [],
   "source": [
    "model_name = 'edges_conv_64_img_size_64_dropout_window_5_by_5' #"
   ]
  },
  {
   "cell_type": "code",
   "execution_count": 15,
   "metadata": {
    "scrolled": true
   },
   "outputs": [
    {
     "name": "stdout",
     "output_type": "stream",
     "text": [
      "Train on 40000 samples, validate on 10000 samples\n",
      "Epoch 1/100\n",
      "40000/40000 [==============================] - 761s 19ms/step - loss: 1.1094 - acc: 0.5675 - val_loss: 0.6654 - val_acc: 0.6049\n",
      "Epoch 2/100\n",
      "40000/40000 [==============================] - 813s 20ms/step - loss: 0.6737 - acc: 0.5856 - val_loss: 0.6627 - val_acc: 0.6058\n",
      "Epoch 3/100\n",
      "40000/40000 [==============================] - 801s 20ms/step - loss: 0.6627 - acc: 0.6097 - val_loss: 0.6533 - val_acc: 0.6209\n",
      "Epoch 4/100\n",
      "40000/40000 [==============================] - 773s 19ms/step - loss: 0.6523 - acc: 0.6235 - val_loss: 0.6409 - val_acc: 0.6327\n",
      "Epoch 5/100\n",
      "40000/40000 [==============================] - 676s 17ms/step - loss: 0.6400 - acc: 0.6368 - val_loss: 0.6171 - val_acc: 0.6560\n",
      "Epoch 6/100\n",
      "40000/40000 [==============================] - 642s 16ms/step - loss: 0.6069 - acc: 0.6750 - val_loss: 0.5664 - val_acc: 0.7065\n",
      "Epoch 7/100\n",
      "40000/40000 [==============================] - 703s 18ms/step - loss: 0.5718 - acc: 0.7052 - val_loss: 0.5614 - val_acc: 0.7022\n",
      "Epoch 8/100\n",
      "40000/40000 [==============================] - 776s 19ms/step - loss: 0.5468 - acc: 0.7257 - val_loss: 0.5370 - val_acc: 0.7376\n",
      "Epoch 9/100\n",
      "40000/40000 [==============================] - 866s 22ms/step - loss: 0.5278 - acc: 0.7405 - val_loss: 0.5248 - val_acc: 0.7439\n",
      "Epoch 10/100\n",
      "40000/40000 [==============================] - 809s 20ms/step - loss: 0.5062 - acc: 0.7532 - val_loss: 0.5165 - val_acc: 0.7523\n",
      "Epoch 11/100\n",
      "40000/40000 [==============================] - 4043s 101ms/step - loss: 0.4920 - acc: 0.7600 - val_loss: 0.5035 - val_acc: 0.7579\n",
      "Epoch 12/100\n",
      "40000/40000 [==============================] - 717s 18ms/step - loss: 0.4778 - acc: 0.7700 - val_loss: 0.4976 - val_acc: 0.7561\n",
      "Epoch 13/100\n",
      "40000/40000 [==============================] - 771s 19ms/step - loss: 0.4640 - acc: 0.7772 - val_loss: 0.5002 - val_acc: 0.7550\n",
      "Epoch 14/100\n",
      "40000/40000 [==============================] - 702s 18ms/step - loss: 0.4537 - acc: 0.7843 - val_loss: 0.5042 - val_acc: 0.7616\n",
      "Epoch 15/100\n",
      "40000/40000 [==============================] - 641s 16ms/step - loss: 0.4420 - acc: 0.7898 - val_loss: 0.4966 - val_acc: 0.7679\n",
      "Epoch 16/100\n",
      "40000/40000 [==============================] - 681s 17ms/step - loss: 0.4297 - acc: 0.7960 - val_loss: 0.5136 - val_acc: 0.7599\n",
      "Epoch 17/100\n",
      "40000/40000 [==============================] - 691s 17ms/step - loss: 0.4189 - acc: 0.8021 - val_loss: 0.5647 - val_acc: 0.7588\n",
      "Epoch 18/100\n",
      "40000/40000 [==============================] - 694s 17ms/step - loss: 0.4121 - acc: 0.8053 - val_loss: 0.5354 - val_acc: 0.7601\n",
      "Epoch 19/100\n",
      "40000/40000 [==============================] - 702s 18ms/step - loss: 0.3979 - acc: 0.8141 - val_loss: 0.5202 - val_acc: 0.7621\n",
      "Epoch 20/100\n",
      "40000/40000 [==============================] - 897s 22ms/step - loss: 0.3874 - acc: 0.8208 - val_loss: 0.5381 - val_acc: 0.7557\n"
     ]
    },
    {
     "data": {
      "text/plain": [
       "<keras.callbacks.History at 0x7f63444214e0>"
      ]
     },
     "execution_count": 15,
     "metadata": {},
     "output_type": "execute_result"
    }
   ],
   "source": [
    "model = Sequential() \n",
    "model.add(Conv2D(64, (5, 5), input_shape=(64, 64, 1))) \n",
    "model.add(Activation('relu')) \n",
    "model.add(MaxPooling2D(pool_size=(2, 2))) \n",
    "  \n",
    "model.add(Conv2D(32, (3, 3))) \n",
    "model.add(Activation('relu')) \n",
    "model.add(MaxPooling2D(pool_size=(2, 2))) \n",
    "  \n",
    "model.add(Conv2D(16, (3, 3))) \n",
    "model.add(Activation('relu')) \n",
    "model.add(MaxPooling2D(pool_size=(2, 2))) \n",
    "  \n",
    "model.add(Flatten()) \n",
    "model.add(Dense(50)) \n",
    "model.add(Activation('relu')) \n",
    "model.add(Dropout(0.5)) \n",
    "model.add(Dense(1)) \n",
    "model.add(Activation('sigmoid')) \n",
    "\n",
    "model.compile(loss='binary_crossentropy', \n",
    "              optimizer='adam', \n",
    "              metrics=['accuracy']) \n",
    "\n",
    "tensorboard = TensorBoard(log_dir=\"logs/{}\".format(model_name))\n",
    "early_stop = EarlyStopping(monitor='val_loss', patience=8)\n",
    "checkpoint = ModelCheckpoint(filepath='model_data/' + model_name + '_checkpoint.h5', monitor='val_loss', \n",
    "                             save_best_only=True)\n",
    "\n",
    "model.fit(train_images_data, train_images_labels, epochs=100, validation_split=0.2, \n",
    "          callbacks=[tensorboard, early_stop, checkpoint])"
   ]
  },
  {
   "cell_type": "code",
   "execution_count": 16,
   "metadata": {},
   "outputs": [],
   "source": [
    "model.save('models/' + model_name + '.h5')"
   ]
  },
  {
   "cell_type": "code",
   "execution_count": null,
   "metadata": {},
   "outputs": [],
   "source": []
  }
 ],
 "metadata": {
  "kernelspec": {
   "display_name": "Python 3",
   "language": "python",
   "name": "python3"
  },
  "language_info": {
   "codemirror_mode": {
    "name": "ipython",
    "version": 3
   },
   "file_extension": ".py",
   "mimetype": "text/x-python",
   "name": "python",
   "nbconvert_exporter": "python",
   "pygments_lexer": "ipython3",
   "version": "3.6.7"
  }
 },
 "nbformat": 4,
 "nbformat_minor": 2
}
