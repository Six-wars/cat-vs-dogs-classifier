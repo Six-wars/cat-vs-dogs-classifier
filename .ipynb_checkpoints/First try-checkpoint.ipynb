{
 "cells": [
  {
   "cell_type": "code",
   "execution_count": 5,
   "metadata": {},
   "outputs": [],
   "source": [
    "import os\n",
    "import sys\n",
    "import cv2\n",
    "\n",
    "import random\n",
    "\n",
    "import numpy as np\n",
    "\n",
    "from tqdm import tqdm\n",
    "\n",
    "import matplotlib.pyplot as plt\n",
    "\n",
    "%matplotlib inline"
   ]
  },
  {
   "cell_type": "code",
   "execution_count": 6,
   "metadata": {},
   "outputs": [
    {
     "data": {
      "text/plain": [
       "['sample_submission.csv', 'test', 'train']"
      ]
     },
     "execution_count": 6,
     "metadata": {},
     "output_type": "execute_result"
    }
   ],
   "source": [
    "os.listdir('data')"
   ]
  },
  {
   "cell_type": "code",
   "execution_count": 7,
   "metadata": {},
   "outputs": [
    {
     "data": {
      "text/plain": [
       "25000"
      ]
     },
     "execution_count": 7,
     "metadata": {},
     "output_type": "execute_result"
    }
   ],
   "source": [
    "len(os.listdir('data/train'))"
   ]
  },
  {
   "cell_type": "code",
   "execution_count": 8,
   "metadata": {},
   "outputs": [
    {
     "name": "stdout",
     "output_type": "stream",
     "text": [
      "25000\n",
      "12500\n"
     ]
    }
   ],
   "source": [
    "train_images = os.listdir('data/train')\n",
    "test_images = os.listdir('data/test')\n",
    "\n",
    "print(len(train_images))\n",
    "print(len(test_images))"
   ]
  },
  {
   "cell_type": "code",
   "execution_count": 9,
   "metadata": {},
   "outputs": [
    {
     "data": {
      "text/plain": [
       "['dog.3730.jpg',\n",
       " 'cat.8279.jpg',\n",
       " 'cat.7998.jpg',\n",
       " 'cat.6615.jpg',\n",
       " 'cat.9309.jpg',\n",
       " 'cat.2355.jpg',\n",
       " 'cat.476.jpg',\n",
       " 'cat.11387.jpg',\n",
       " 'cat.2401.jpg',\n",
       " 'cat.5022.jpg']"
      ]
     },
     "execution_count": 9,
     "metadata": {},
     "output_type": "execute_result"
    }
   ],
   "source": [
    "train_images[:10]"
   ]
  },
  {
   "cell_type": "code",
   "execution_count": 10,
   "metadata": {},
   "outputs": [
    {
     "data": {
      "text/plain": [
       "['11522.jpg',\n",
       " '10210.jpg',\n",
       " '12040.jpg',\n",
       " '4352.jpg',\n",
       " '856.jpg',\n",
       " '6162.jpg',\n",
       " '12274.jpg',\n",
       " '8091.jpg',\n",
       " '3558.jpg',\n",
       " '11500.jpg']"
      ]
     },
     "execution_count": 10,
     "metadata": {},
     "output_type": "execute_result"
    }
   ],
   "source": [
    "test_images[:10]"
   ]
  },
  {
   "cell_type": "code",
   "execution_count": 11,
   "metadata": {},
   "outputs": [
    {
     "name": "stderr",
     "output_type": "stream",
     "text": [
      "100%|██████████| 12500/12500 [03:30<00:00, 59.36it/s]\n"
     ]
    }
   ],
   "source": [
    "test_images_data = []\n",
    "\n",
    "for image in tqdm(test_images):\n",
    "    image_data = cv2.imread('data/test/' + image)\n",
    "    \n",
    "    #Convert to GrayScale\n",
    "    #gray = cv2.cvtColor(image, cv2.COLOR_BGR2GRAY)\n",
    "    \n",
    "    #convert color from BGR to RGB\n",
    "    image_data = cv2.cvtColor(image_data, cv2.COLOR_BGR2RGB)\n",
    "    image_data = cv2.resize(image_data, (200, 200))\n",
    "    \n",
    "    #turn to only borders\n",
    "    edges = cv2.Canny(image_data, 150, 150)\n",
    "    \n",
    "    test_images_data.append(edges)"
   ]
  },
  {
   "cell_type": "code",
   "execution_count": 12,
   "metadata": {},
   "outputs": [],
   "source": [
    "test_images_data = np.array(test_images_data)"
   ]
  },
  {
   "cell_type": "code",
   "execution_count": 27,
   "metadata": {},
   "outputs": [],
   "source": [
    "image = cv2.imread('data/test/' + test_images[1], cv2.IMREAD_COLOR)"
   ]
  },
  {
   "cell_type": "code",
   "execution_count": 24,
   "metadata": {},
   "outputs": [
    {
     "data": {
      "text/plain": [
       "'data/test/10210.jpg'"
      ]
     },
     "execution_count": 24,
     "metadata": {},
     "output_type": "execute_result"
    }
   ],
   "source": [
    "'data/test/'+test_images[1]"
   ]
  },
  {
   "cell_type": "code",
   "execution_count": 34,
   "metadata": {},
   "outputs": [],
   "source": [
    "image = cv2.cvtColor(image,cv2.COLOR_BGR2RGB)\n",
    "edges = cv2.Canny(image, 190, 190)"
   ]
  },
  {
   "cell_type": "code",
   "execution_count": 35,
   "metadata": {},
   "outputs": [
    {
     "data": {
      "image/png": "[encoded data removed]",
      "text/plain": [
       "<Figure size 432x288 with 1 Axes>"
      ]
     },
     "metadata": {
      "needs_background": "light"
     },
     "output_type": "display_data"
    }
   ],
   "source": [
    "plt.imshow(edges)\n",
    "plt.show()"
   ]
  },
  {
   "cell_type": "code",
   "execution_count": 37,
   "metadata": {},
   "outputs": [
    {
     "data": {
      "text/plain": [
       "array([[  0,   0,   0, ...,   0,   0,   0],\n",
       "       [  0,   0,   0, ...,   0,   0,   0],\n",
       "       [  0,   0,   0, ...,   0,   0,   0],\n",
       "       ...,\n",
       "       [  0,   0,   0, ..., 255,   0,   0],\n",
       "       [  0,   0,   0, ..., 255, 255,   0],\n",
       "       [  0,   0,   0, ...,   0,   0,   0]], dtype=uint8)"
      ]
     },
     "execution_count": 37,
     "metadata": {},
     "output_type": "execute_result"
    }
   ],
   "source": [
    "test_images_data[0]"
   ]
  },
  {
   "cell_type": "code",
   "execution_count": 36,
   "metadata": {},
   "outputs": [
    {
     "data": {
      "image/png": "[encoded data removed]",
      "text/plain": [
       "<Figure size 432x288 with 1 Axes>"
      ]
     },
     "metadata": {
      "needs_background": "light"
     },
     "output_type": "display_data"
    }
   ],
   "source": [
    "plt.plot(test_images_data[0])\n",
    "plt.show()"
   ]
  },
  {
   "cell_type": "code",
   "execution_count": 38,
   "metadata": {},
   "outputs": [
    {
     "name": "stderr",
     "output_type": "stream",
     "text": [
      "100%|██████████| 25000/25000 [08:45<00:00, 47.54it/s] \n"
     ]
    }
   ],
   "source": [
    "train_images_data = []\n",
    "train_images_labels = []\n",
    "\n",
    "random.seed(42)\n",
    "random.shuffle(train_images)\n",
    "\n",
    "for image in tqdm(train_images):\n",
    "    image_data = cv2.imread('data/train/' + image)\n",
    "    \n",
    "    #Convert to GrayScale\n",
    "    #gray = cv2.cvtColor(image, cv2.COLOR_BGR2GRAY)\n",
    "    \n",
    "    #convert color from BGR to RGB\n",
    "    image_data = cv2.cvtColor(image_data, cv2.COLOR_BGR2RGB)\n",
    "    image_data = cv2.resize(image_data, (200, 200))\n",
    "    \n",
    "    #turn to only borders\n",
    "    edges = cv2.Canny(image_data, 150, 150)\n",
    "    \n",
    "    train_images_data.append(edges)\n",
    "    \n",
    "    if image.startswith('cat'):\n",
    "        train_images_labels.append(0)\n",
    "    else:\n",
    "        train_images_labels.append(1)"
   ]
  },
  {
   "cell_type": "code",
   "execution_count": 40,
   "metadata": {},
   "outputs": [],
   "source": [
    "train_images_data = np.array(train_images_data)\n",
    "train_images_labels = np.array(train_images_labels)\n",
    "\n",
    "train_images_data = train_images_data.reshape([-1, 200, 200,1])\n",
    "#train_images_labels = train_images_labels.reshape([-1,200, 200,1])"
   ]
  },
  {
   "cell_type": "code",
   "execution_count": 42,
   "metadata": {},
   "outputs": [
    {
     "name": "stderr",
     "output_type": "stream",
     "text": [
      "Using TensorFlow backend.\n"
     ]
    }
   ],
   "source": [
    "from keras.models import Sequential \n",
    "from keras.layers import Conv2D, MaxPooling2D \n",
    "from keras.layers import Activation, Dropout, Flatten, Dense\n",
    "\n",
    "from keras.callbacks import TensorBoard"
   ]
  },
  {
   "cell_type": "code",
   "execution_count": 43,
   "metadata": {},
   "outputs": [],
   "source": [
    "model_name = 'edges_models_epochs_10_batch_size_100_conv_3_by_3_v2'"
   ]
  },
  {
   "cell_type": "code",
   "execution_count": 44,
   "metadata": {
    "scrolled": true
   },
   "outputs": [
    {
     "name": "stdout",
     "output_type": "stream",
     "text": [
      "Train on 20000 samples, validate on 5000 samples\n",
      "Epoch 1/10\n",
      "20000/20000 [==============================] - 2506s 125ms/step - loss: 4.8414 - accuracy: 0.5538 - val_loss: 0.6483 - val_accuracy: 0.6198\n",
      "Epoch 2/10\n",
      "20000/20000 [==============================] - 2638s 132ms/step - loss: 0.6268 - accuracy: 0.6490 - val_loss: 0.6049 - val_accuracy: 0.6708\n",
      "Epoch 3/10\n",
      "20000/20000 [==============================] - 2360s 118ms/step - loss: 0.5737 - accuracy: 0.6951 - val_loss: 0.5685 - val_accuracy: 0.7156\n",
      "Epoch 4/10\n",
      "20000/20000 [==============================] - 2411s 121ms/step - loss: 0.5369 - accuracy: 0.7196 - val_loss: 0.5607 - val_accuracy: 0.7168\n",
      "Epoch 5/10\n",
      "20000/20000 [==============================] - 2154s 108ms/step - loss: 0.4976 - accuracy: 0.7455 - val_loss: 0.5557 - val_accuracy: 0.7260\n",
      "Epoch 6/10\n",
      "20000/20000 [==============================] - 2426s 121ms/step - loss: 0.4606 - accuracy: 0.7663 - val_loss: 0.5804 - val_accuracy: 0.7132\n",
      "Epoch 7/10\n",
      "20000/20000 [==============================] - 2172s 109ms/step - loss: 0.4355 - accuracy: 0.7764 - val_loss: 0.5609 - val_accuracy: 0.7254\n",
      "Epoch 8/10\n",
      "20000/20000 [==============================] - 2486s 124ms/step - loss: 0.3946 - accuracy: 0.7984 - val_loss: 0.5937 - val_accuracy: 0.7264\n",
      "Epoch 9/10\n",
      "20000/20000 [==============================] - 1967s 98ms/step - loss: 0.3738 - accuracy: 0.8087 - val_loss: 0.6288 - val_accuracy: 0.7270\n",
      "Epoch 10/10\n",
      "20000/20000 [==============================] - 1968s 98ms/step - loss: 0.3483 - accuracy: 0.8170 - val_loss: 0.5997 - val_accuracy: 0.7326\n"
     ]
    },
    {
     "data": {
      "text/plain": [
       "<keras.callbacks.callbacks.History at 0x7f3d007b6e10>"
      ]
     },
     "execution_count": 44,
     "metadata": {},
     "output_type": "execute_result"
    }
   ],
   "source": [
    "model = Sequential() \n",
    "model.add(Conv2D(32, (3, 3), input_shape=(200, 200, 1))) \n",
    "model.add(Activation('relu')) \n",
    "model.add(MaxPooling2D(pool_size=(2, 2))) \n",
    "  \n",
    "model.add(Conv2D(32, (3, 3))) \n",
    "model.add(Activation('relu')) \n",
    "model.add(MaxPooling2D(pool_size=(2, 2))) \n",
    "  \n",
    "model.add(Conv2D(64, (3, 3))) \n",
    "model.add(Activation('relu')) \n",
    "model.add(MaxPooling2D(pool_size=(2, 2))) \n",
    "  \n",
    "model.add(Flatten()) \n",
    "model.add(Dense(64)) \n",
    "model.add(Activation('relu')) \n",
    "model.add(Dropout(0.5)) \n",
    "model.add(Dense(1)) \n",
    "model.add(Activation('sigmoid')) \n",
    "\n",
    "model.compile(loss='binary_crossentropy', \n",
    "              optimizer='adam', \n",
    "              metrics=['accuracy']) \n",
    "\n",
    "tensorboard = TensorBoard(log_dir=\"logs/{}\".format(model_name))\n",
    "\n",
    "model.fit(train_images_data, train_images_labels, epochs=10, validation_split=0.2, batch_size=100, callbacks=[tensorboard])"
   ]
  },
  {
   "cell_type": "code",
   "execution_count": null,
   "metadata": {},
   "outputs": [],
   "source": [
    "import pickle"
   ]
  },
  {
   "cell_type": "code",
   "execution_count": null,
   "metadata": {},
   "outputs": [],
   "source": [
    "pickle.dump(train_images_data, open('edges_train_images_data.pck', 'wb'))"
   ]
  },
  {
   "cell_type": "code",
   "execution_count": null,
   "metadata": {},
   "outputs": [],
   "source": [
    "pickle.dump(test_images_data, open('edges_test_images_data.pck', 'wb'))"
   ]
  },
  {
   "cell_type": "code",
   "execution_count": null,
   "metadata": {},
   "outputs": [],
   "source": [
    "pickle.dump(train_images_labels, open('edges_train_images_labels.pck', 'wb'))"
   ]
  },
  {
   "cell_type": "code",
   "execution_count": null,
   "metadata": {},
   "outputs": [],
   "source": [
    "model.save(model_name + '.h5')"
   ]
  },
  {
   "cell_type": "code",
   "execution_count": null,
   "metadata": {},
   "outputs": [],
   "source": []
  }
 ],
 "metadata": {
  "kernelspec": {
   "display_name": "Python 3",
   "language": "python",
   "name": "python3"
  },
  "language_info": {
   "codemirror_mode": {
    "name": "ipython",
    "version": 3
   },
   "file_extension": ".py",
   "mimetype": "text/x-python",
   "name": "python",
   "nbconvert_exporter": "python",
   "pygments_lexer": "ipython3",
   "version": "3.7.5"
  }
 },
 "nbformat": 4,
 "nbformat_minor": 2
}
