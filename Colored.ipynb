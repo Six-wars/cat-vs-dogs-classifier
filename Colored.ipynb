{
 "cells": [
  {
   "cell_type": "code",
   "execution_count": 1,
   "metadata": {},
   "outputs": [
    {
     "name": "stderr",
     "output_type": "stream",
     "text": [
      "Using TensorFlow backend.\n"
     ]
    }
   ],
   "source": [
    "import os\n",
    "import sys\n",
    "import cv2\n",
    "\n",
    "import random\n",
    "\n",
    "import numpy as np\n",
    "\n",
    "from tqdm import tqdm\n",
    "import pickle\n",
    "\n",
    "from keras.models import Sequential \n",
    "from keras.layers import Conv2D, MaxPooling2D \n",
    "from keras.layers import Activation, Dropout, Flatten, Dense\n",
    "\n",
    "from keras.callbacks import TensorBoard, EarlyStopping, ModelCheckpoint\n",
    "\n",
    "import matplotlib.pyplot as plt\n",
    "\n",
    "%matplotlib inline"
   ]
  },
  {
   "cell_type": "code",
   "execution_count": null,
   "metadata": {},
   "outputs": [],
   "source": [
    "train_images = os.listdir('data/train')\n",
    "test_images = os.listdir('data/test')\n",
    "\n",
    "print(len(train_images))\n",
    "print(len(test_images))"
   ]
  },
  {
   "cell_type": "code",
   "execution_count": null,
   "metadata": {},
   "outputs": [],
   "source": [
    "train_images[0]"
   ]
  },
  {
   "cell_type": "code",
   "execution_count": null,
   "metadata": {
    "scrolled": true
   },
   "outputs": [],
   "source": [
    "test_images_data = []\n",
    "\n",
    "for image in tqdm(test_images):\n",
    "    image_data = cv2.imread('data/test/' + image)\n",
    "\n",
    "    #convert color from BGR to RGB\n",
    "    image_data = cv2.cvtColor(image_data, cv2.COLOR_BGR2RGB)    \n",
    "    image_data = cv2.resize(image_data, (64, 64))\n",
    "    \n",
    "    test_images_data.append(image_data)"
   ]
  },
  {
   "cell_type": "code",
   "execution_count": null,
   "metadata": {},
   "outputs": [],
   "source": [
    "test_images_data = np.array(test_images_data)"
   ]
  },
  {
   "cell_type": "code",
   "execution_count": null,
   "metadata": {},
   "outputs": [],
   "source": [
    "train_images_data = []\n",
    "train_images_labels = []\n",
    "\n",
    "random.shuffle(train_images)\n",
    "\n",
    "for image in tqdm(train_images):\n",
    "    image_data = cv2.imread('data/train/' + image)\n",
    "    \n",
    "    #convert color from BGR to RGB\n",
    "    image_data = cv2.cvtColor(image_data, cv2.COLOR_BGR2RGB)\n",
    "    \n",
    "    image_data = cv2.resize(image_data, (64, 64))\n",
    "\n",
    "    train_images_data.append(image_data)\n",
    "    train_images_data.append(image_data[:, ::-1]) #flipped image\n",
    "    \n",
    "    if image.startswith('cat'):\n",
    "        train_images_labels.append(0)\n",
    "        train_images_labels.append(0)\n",
    "    else:\n",
    "        train_images_labels.append(1)\n",
    "        train_images_labels.append(1)"
   ]
  },
  {
   "cell_type": "code",
   "execution_count": null,
   "metadata": {},
   "outputs": [],
   "source": [
    "train_images_data = np.array(train_images_data)\n",
    "train_images_labels = np.array(train_images_labels)\n",
    "\n",
    "train_images_data = train_images_data.reshape([-1, 64, 64, 3])"
   ]
  },
  {
   "cell_type": "code",
   "execution_count": null,
   "metadata": {},
   "outputs": [],
   "source": [
    "pickle.dump(train_images_data, open('model_data/colored_train_images_data.pck', 'wb'))"
   ]
  },
  {
   "cell_type": "code",
   "execution_count": null,
   "metadata": {},
   "outputs": [],
   "source": [
    "pickle.dump(test_images_data, open('model_data/colored_test_images_data.pck', 'wb'))"
   ]
  },
  {
   "cell_type": "code",
   "execution_count": null,
   "metadata": {},
   "outputs": [],
   "source": [
    "pickle.dump(train_images_labels, open('model_data/colored_train_images_labels.pck', 'wb'))"
   ]
  },
  {
   "cell_type": "code",
   "execution_count": 2,
   "metadata": {},
   "outputs": [],
   "source": [
    "file = open('model_data/colored_test_images_data.pck','rb')\n",
    "test_images_data = pickle.load(file)"
   ]
  },
  {
   "cell_type": "code",
   "execution_count": 3,
   "metadata": {},
   "outputs": [],
   "source": [
    "file = open('model_data/colored_train_images_data.pck','rb')\n",
    "train_images_data = pickle.load(file)"
   ]
  },
  {
   "cell_type": "code",
   "execution_count": 4,
   "metadata": {},
   "outputs": [],
   "source": [
    "file = open('model_data/colored_train_images_labels.pck','rb')\n",
    "train_images_labels = pickle.load(file)"
   ]
  },
  {
   "cell_type": "code",
   "execution_count": 10,
   "metadata": {},
   "outputs": [],
   "source": [
    "model_name = 'colored_model_conv_5_by_5_convs(64_32_32)_last_dense_50_dropout_10%' #"
   ]
  },
  {
   "cell_type": "code",
   "execution_count": 11,
   "metadata": {
    "scrolled": true
   },
   "outputs": [
    {
     "name": "stdout",
     "output_type": "stream",
     "text": [
      "Train on 45000 samples, validate on 5000 samples\n",
      "Epoch 1/100\n",
      "45000/45000 [==============================] - 781s 17ms/step - loss: 0.7124 - accuracy: 0.5362 - val_loss: 0.6840 - val_accuracy: 0.5298\n",
      "Epoch 2/100\n",
      "45000/45000 [==============================] - 695s 15ms/step - loss: 0.6812 - accuracy: 0.5526 - val_loss: 0.6788 - val_accuracy: 0.5486\n",
      "Epoch 3/100\n",
      "45000/45000 [==============================] - 1038s 23ms/step - loss: 0.6772 - accuracy: 0.5636 - val_loss: 0.6638 - val_accuracy: 0.6052\n",
      "Epoch 4/100\n",
      "45000/45000 [==============================] - 1104s 25ms/step - loss: 0.6757 - accuracy: 0.5630 - val_loss: 0.6865 - val_accuracy: 0.5638\n",
      "Epoch 5/100\n",
      "45000/45000 [==============================] - 1101s 24ms/step - loss: 0.6505 - accuracy: 0.6203 - val_loss: 0.6302 - val_accuracy: 0.6446\n",
      "Epoch 6/100\n",
      "45000/45000 [==============================] - 1098s 24ms/step - loss: 0.6018 - accuracy: 0.6785 - val_loss: 0.6066 - val_accuracy: 0.6884\n",
      "Epoch 7/100\n",
      "45000/45000 [==============================] - 1091s 24ms/step - loss: 0.5368 - accuracy: 0.7318 - val_loss: 0.5005 - val_accuracy: 0.7528\n",
      "Epoch 8/100\n",
      "45000/45000 [==============================] - 885s 20ms/step - loss: 0.4825 - accuracy: 0.7737 - val_loss: 0.4754 - val_accuracy: 0.7692\n",
      "Epoch 9/100\n",
      "45000/45000 [==============================] - 847s 19ms/step - loss: 0.4483 - accuracy: 0.7906 - val_loss: 0.4510 - val_accuracy: 0.7882\n",
      "Epoch 10/100\n",
      "45000/45000 [==============================] - 959s 21ms/step - loss: 0.4216 - accuracy: 0.8097 - val_loss: 0.4533 - val_accuracy: 0.7820\n",
      "Epoch 11/100\n",
      "45000/45000 [==============================] - 931s 21ms/step - loss: 0.4020 - accuracy: 0.8179 - val_loss: 0.4419 - val_accuracy: 0.7938\n",
      "Epoch 12/100\n",
      "45000/45000 [==============================] - 950s 21ms/step - loss: 0.3742 - accuracy: 0.8307 - val_loss: 0.4428 - val_accuracy: 0.8074\n",
      "Epoch 13/100\n",
      "45000/45000 [==============================] - 981s 22ms/step - loss: 0.3551 - accuracy: 0.8419 - val_loss: 0.4389 - val_accuracy: 0.8006\n",
      "Epoch 14/100\n",
      "45000/45000 [==============================] - 758s 17ms/step - loss: 0.3334 - accuracy: 0.8507 - val_loss: 0.4608 - val_accuracy: 0.7942\n",
      "Epoch 15/100\n",
      "45000/45000 [==============================] - 996s 22ms/step - loss: 0.3168 - accuracy: 0.8607 - val_loss: 0.5610 - val_accuracy: 0.7716\n",
      "Epoch 16/100\n",
      "45000/45000 [==============================] - 984s 22ms/step - loss: 0.2947 - accuracy: 0.8694 - val_loss: 0.4832 - val_accuracy: 0.8008\n",
      "Epoch 17/100\n",
      "45000/45000 [==============================] - 904s 20ms/step - loss: 0.2807 - accuracy: 0.8777 - val_loss: 0.4951 - val_accuracy: 0.7938\n",
      "Epoch 18/100\n",
      "45000/45000 [==============================] - 812s 18ms/step - loss: 0.2608 - accuracy: 0.8857 - val_loss: 0.5260 - val_accuracy: 0.7888\n"
     ]
    },
    {
     "data": {
      "text/plain": [
       "<keras.callbacks.callbacks.History at 0x7f476e2e4b10>"
      ]
     },
     "execution_count": 11,
     "metadata": {},
     "output_type": "execute_result"
    }
   ],
   "source": [
    "model = Sequential() \n",
    "model.add(Conv2D(64, (5, 5), input_shape=(64, 64, 3))) \n",
    "model.add(Activation('relu')) \n",
    "model.add(MaxPooling2D(pool_size=(2, 2)))\n",
    "#model.add(Dropout(0.1)) \n",
    "  \n",
    "model.add(Conv2D(32, (3, 3))) \n",
    "model.add(Activation('relu')) \n",
    "model.add(MaxPooling2D(pool_size=(2, 2))) \n",
    "#model.add(Dropout(0.1)) \n",
    "  \n",
    "model.add(Conv2D(32, (3, 3))) \n",
    "model.add(Activation('relu')) \n",
    "model.add(MaxPooling2D(pool_size=(2, 2))) \n",
    "#model.add(Dropout(0.1)) \n",
    "  \n",
    "model.add(Flatten()) \n",
    "model.add(Dense(50)) #Increase to see how accuracy performs \n",
    "#consider also with 0.1 dropout it went from training with 25 to training with 45\n",
    "\n",
    "model.add(Activation('relu')) \n",
    "model.add(Dropout(0.1)) #compare 0.5 with to 0.1 then 0.2 and 0.3\n",
    "model.add(Dense(1)) \n",
    "model.add(Activation('sigmoid')) \n",
    "\n",
    "model.compile(loss='binary_crossentropy', \n",
    "              optimizer='adam', \n",
    "              metrics=['accuracy']) \n",
    "\n",
    "tensorboard = TensorBoard(log_dir=\"logs/{}\".format(model_name))\n",
    "early_stop = EarlyStopping(monitor='val_loss', patience=5)\n",
    "checkpoint = ModelCheckpoint(filepath='models/' + model_name + '.h5', monitor='val_loss', \n",
    "                             save_best_only=True)\n",
    "\n",
    "model.fit(train_images_data, train_images_labels, epochs=100, validation_split=0.1, \n",
    "          callbacks=[tensorboard, early_stop, checkpoint]) #move batch size to 32, 64, 128\n",
    "#and finally 256 see how accuracy performs\n",
    "\n",
    "#remember to try out with dropout per layer"
   ]
  },
  {
   "cell_type": "code",
   "execution_count": 9,
   "metadata": {},
   "outputs": [],
   "source": [
    "model.save('models/' + model_name + '.h5')"
   ]
  },
  {
   "cell_type": "code",
   "execution_count": null,
   "metadata": {},
   "outputs": [],
   "source": []
  }
 ],
 "metadata": {
  "kernelspec": {
   "display_name": "Python 3",
   "language": "python",
   "name": "python3"
  },
  "language_info": {
   "codemirror_mode": {
    "name": "ipython",
    "version": 3
   },
   "file_extension": ".py",
   "mimetype": "text/x-python",
   "name": "python",
   "nbconvert_exporter": "python",
   "pygments_lexer": "ipython3",
   "version": "3.7.5"
  }
 },
 "nbformat": 4,
 "nbformat_minor": 2
}
